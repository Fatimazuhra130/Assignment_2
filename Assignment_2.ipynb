{
 "cells": [
  {
   "cell_type": "code",
   "execution_count": 35,
   "metadata": {},
   "outputs": [
    {
     "name": "stdout",
     "output_type": "stream",
     "text": [
      "Enter marks of English ?80\n",
      "Enter marks of Compter ?80\n",
      "Enter marks of Math ?89\n",
      "Enter marks of Physics ?87\n",
      "Enter marks of Electronics ?87\n",
      "84.6\n",
      "A+\n"
     ]
    }
   ],
   "source": [
    "\"1.Write a Program which take five input from user for different subject's marks,total it and generate mark sheet using grade\"\n",
    "Sub1=float(input(\"Enter marks of English ?\"))\n",
    "Sub2=float(input(\"Enter marks of Compter ?\"))\n",
    "Sub3=float(input(\"Enter marks of Math ?\"))\n",
    "Sub4=float(input(\"Enter marks of Physics ?\"))\n",
    "Sub5=float(input(\"Enter marks of Electronics ?\"))\n",
    "Total=Sub1+Sub2+Sub3+Sub4+Sub5\n",
    "per=(Total*100/500)  \n",
    "print(per)\n",
    "if per >= 80 and per < 100:\n",
    "    print(\"A+\")\n",
    "elif per >= 70 and per < 80:\n",
    "    print(\"A\")\n",
    "elif per >= 60 and per < 70:\n",
    "        print(\"B\")\n",
    "elif per >= 50 and per < 60:\n",
    "        print(\"C\")\n",
    "elif per >= 33and per < 50:\n",
    "    print(\"D\")\n",
    "else:\n",
    "    print(\"Failed\") "
   ]
  },
  {
   "cell_type": "code",
   "execution_count": 40,
   "metadata": {},
   "outputs": [
    {
     "name": "stdout",
     "output_type": "stream",
     "text": [
      "Enter no ?8\n",
      "Num is Even  8\n"
     ]
    }
   ],
   "source": [
    "\"2.Write a proram which take input from user and identify that the given number is even or odd\"\n",
    "Num=int(input(\"Enter no ?\"))\n",
    "if Num % 2 == 0 :\n",
    "    print(\"Num is Even \" ,+Num)\n",
    "else :\n",
    "    print(\"Num is Odd \",+Num)"
   ]
  },
  {
   "cell_type": "code",
   "execution_count": 47,
   "metadata": {},
   "outputs": [
    {
     "name": "stdout",
     "output_type": "stream",
     "text": [
      "5\n",
      "False\n"
     ]
    }
   ],
   "source": [
    "\"3.Write a program which print the length of list\"\n",
    "List=['Fatima','MaRYAM','Dastageer',False,34]\n",
    "print(len(List))\n",
    "print(List[3])"
   ]
  },
  {
   "cell_type": "code",
   "execution_count": 53,
   "metadata": {},
   "outputs": [
    {
     "name": "stdout",
     "output_type": "stream",
     "text": [
      "How many numbers: 2\n",
      "Enter number 2\n",
      "Enter number 2\n",
      "Sum of elements in given list is : 4\n"
     ]
    }
   ],
   "source": [
    "\"4.Write a python program which print all numeric item sum in list\"\n",
    "lst = []\n",
    "num = int(input('How many numbers: '))\n",
    "for n in range(num):\n",
    "    numbers = int(input('Enter number '))\n",
    "    lst.append(numbers)\n",
    "print(\"Sum of elements in given list is :\", sum(lst))\n",
    " \n"
   ]
  },
  {
   "cell_type": "code",
   "execution_count": 58,
   "metadata": {},
   "outputs": [
    {
     "name": "stdout",
     "output_type": "stream",
     "text": [
      "How many number5\n",
      "Enter Number3\n",
      "Enter Number5\n",
      "Enter Number6\n",
      "Enter Number8\n",
      "Enter Number6\n",
      "Maximum number of list is  8 And Minimum number of list is  3\n"
     ]
    }
   ],
   "source": [
    "\"5.Write a program which print the largest number of list\"\n",
    "list = []\n",
    "num = int(input(\"How many number\"))\n",
    "for n in range(num):\n",
    "    number=int(input(\"Enter Number\"))\n",
    "    list.append(number)\n",
    "print(\"Maximum number of list is \",+max(list),\"And Minimum number of list is \" ,+min(list))\n"
   ]
  },
  {
   "cell_type": "code",
   "execution_count": 82,
   "metadata": {},
   "outputs": [
    {
     "name": "stdout",
     "output_type": "stream",
     "text": [
      "Print list element 1\n",
      "Print list element 1\n",
      "Print list element 2\n",
      "Print list element 3\n"
     ]
    }
   ],
   "source": [
    "\"6.Write a python program to element of list whhich is less than 5\"\n",
    "list = [1,1,2,3,5,8,13,21,34,55,89]\n",
    "for i in list:\n",
    " if i < 5 :\n",
    "    print(\"Print list element\",+list[i])\n",
    "\n",
    "    "
   ]
  },
  {
   "cell_type": "code",
   "execution_count": 87,
   "metadata": {},
   "outputs": [
    {
     "name": "stdout",
     "output_type": "stream",
     "text": [
      "How many number7\n",
      "Enter number1\n",
      "Enter number1\n",
      "Enter number2\n",
      "Enter number3\n",
      "Enter number4\n",
      "Enter number6\n",
      "Enter number6\n",
      "Less than 5 element in list 1\n",
      "Less than 5 element in list 1\n",
      "Less than 5 element in list 2\n",
      "Less than 5 element in list 3\n",
      "Less than 5 element in list 4\n"
     ]
    }
   ],
   "source": [
    "list = []\n",
    "num = int(input(\"How many number\"))\n",
    "for i in range(num):\n",
    "    number=int(input(\"Enter number\"))\n",
    "    list.append(number)\n",
    "for a in list:\n",
    " if a < 5:\n",
    "    print(\"Less than 5 element in list\" , +list[a])"
   ]
  },
  {
   "cell_type": "code",
   "execution_count": null,
   "metadata": {},
   "outputs": [],
   "source": []
  }
 ],
 "metadata": {
  "kernelspec": {
   "display_name": "Python 3",
   "language": "python",
   "name": "python3"
  },
  "language_info": {
   "codemirror_mode": {
    "name": "ipython",
    "version": 3
   },
   "file_extension": ".py",
   "mimetype": "text/x-python",
   "name": "python",
   "nbconvert_exporter": "python",
   "pygments_lexer": "ipython3",
   "version": "3.7.4"
  }
 },
 "nbformat": 4,
 "nbformat_minor": 2
}
